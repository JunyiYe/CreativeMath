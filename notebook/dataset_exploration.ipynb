{
 "cells": [
  {
   "cell_type": "code",
   "execution_count": 1,
   "id": "adc320ce-f546-470c-9e27-38712be31fb6",
   "metadata": {},
   "outputs": [],
   "source": [
    "import os\n",
    "import json\n",
    "from IPython.display import display, Math, Latex"
   ]
  },
  {
   "cell_type": "code",
   "execution_count": 2,
   "id": "df1cc5be-984c-45e9-ae4a-54a48974197d",
   "metadata": {},
   "outputs": [],
   "source": [
    "import re\n",
    "\n",
    "# Helper function to extract and sort based on numeric values in file or directory names\n",
    "def numeric_sort_key(name):\n",
    "    numbers = re.findall(r'\\d+', name)\n",
    "    return int(numbers[0]) if numbers else float('inf')  # Handle cases with no numbers reasonably\n",
    "\n",
    "def read_problem_and_first_solution(filepath):\n",
    "    # Check if the file exists\n",
    "    if not os.path.isfile(filepath):\n",
    "        print(\"Error: The provided path is not a file.\")\n",
    "        return None\n",
    "    \n",
    "    with open(filepath, \"r\") as file:\n",
    "        json_data = json.load(file)\n",
    "        competition_id = json_data[\"competition_id\"]\n",
    "        problem_id = json_data[\"problem_id\"]\n",
    "        problem = json_data[\"problem\"]\n",
    "        \n",
    "        # Find the first solution\n",
    "        try:\n",
    "            first_solution = next(iter(json_data[\"solutions\"].values()))\n",
    "        except Exception as e:\n",
    "            print(f\"An error occurred when retrieving the first solution: {e}\")\n",
    "            first_solution = \"Error\"\n",
    "        \n",
    "        return competition_id, problem_id, problem, first_solution"
   ]
  },
  {
   "cell_type": "markdown",
   "id": "a593efcf-5fab-4cee-8cec-8ff9cb9b4c52",
   "metadata": {},
   "source": [
    "# Load the CreativeMath subset"
   ]
  },
  {
   "cell_type": "code",
   "execution_count": 3,
   "id": "bb643bd0-15f0-4ee2-9be9-0c759b5e92aa",
   "metadata": {},
   "outputs": [
    {
     "name": "stdout",
     "output_type": "stream",
     "text": [
      "List all (9) competitions' directories:\n",
      "../data/subset_final/AMC_8\n",
      "../data/subset_final/AMC_10\n",
      "../data/subset_final/AMC_12\n",
      "../data/subset_final/IMO\n",
      "../data/subset_final/.ipynb_checkpoints\n",
      "../data/subset_final/USAMO\n",
      "../data/subset_final/AIME\n",
      "../data/subset_final/AHSME\n",
      "../data/subset_final/USAJMO\n"
     ]
    }
   ],
   "source": [
    "# Set the base directory for the data\n",
    "base_directory = \"../data/subset_final/\"\n",
    "\n",
    "# List and sort competition directories under the base directory\n",
    "competition_dirs = [os.path.join(base_directory, d) for d in os.listdir(base_directory) if os.path.isdir(os.path.join(base_directory, d))]\n",
    "competition_dirs.sort(key=numeric_sort_key)\n",
    "\n",
    "print(f\"List all ({len(competition_dirs)}) competitions' directories:\")\n",
    "for competition in competition_dirs:\n",
    "    print(competition)"
   ]
  },
  {
   "cell_type": "markdown",
   "id": "be6af46d-eeef-48f4-be6f-89fdcc3d775c",
   "metadata": {},
   "source": [
    "## Load a competition"
   ]
  },
  {
   "cell_type": "code",
   "execution_count": 4,
   "id": "83d01f44-c4b6-4967-a828-4f9835b8192e",
   "metadata": {},
   "outputs": [
    {
     "name": "stdout",
     "output_type": "stream",
     "text": [
      "All the samples in ../data/subset_final/AMC_8 competition:\n",
      "\n",
      "['1.json', '2.json', '3.json', '4.json', '5.json', '6.json', '7.json', '8.json', '9.json', '10.json', '11.json', '12.json', '13.json', '14.json', '15.json', '16.json', '17.json', '18.json', '19.json', '20.json', '21.json', '22.json', '23.json', '24.json', '25.json', '26.json', '27.json', '28.json', '29.json', '30.json', '31.json', '32.json', '33.json', '34.json', '35.json', '36.json', '37.json', '38.json', '39.json', '40.json', '41.json', '42.json', '43.json', '44.json', '45.json', '46.json', '47.json', '48.json', '49.json', '50.json']\n"
     ]
    }
   ],
   "source": [
    "competition = competition_dirs[0] # Get the first competition AMC 8\n",
    "\n",
    "print(f\"All the samples in {competition} competition:\\n\")\n",
    "# List and sort all JSON files within this subdirectory\n",
    "json_files = [f for f in os.listdir(competition) if f.endswith('.json')]\n",
    "json_files.sort(key=numeric_sort_key)  # Sort files numerically based on the first number in the filename\n",
    "\n",
    "print(json_files)"
   ]
  },
  {
   "cell_type": "markdown",
   "id": "50219c9b-4b77-43a1-9771-35ff190dd80c",
   "metadata": {},
   "source": [
    "# Display a problem and solutions"
   ]
  },
  {
   "cell_type": "code",
   "execution_count": 5,
   "id": "988d96ee-3ded-452d-b976-7531c0640a03",
   "metadata": {},
   "outputs": [
    {
     "name": "stdout",
     "output_type": "stream",
     "text": [
      "Displaying sample 2: ../data/subset_final/AMC_8/2.json\n",
      "\n",
      "Problem:\n",
      "What is the largest power of $2$ that is a divisor of $13^4 - 11^4$?\n",
      "$\\textbf{(A)}\\mbox{ }8\\qquad \\textbf{(B)}\\mbox{ }16\\qquad \\textbf{(C)}\\mbox{ }32\\qquad \\textbf{(D)}\\mbox{ }64\\qquad \\textbf{(E)}\\mbox{ }128$\n",
      "\n",
      "Number of solutions: 4\n",
      "Soulution 1:\n",
      "First, we use difference of squares on $13^4 - 11^4 = (13^2)^2 - (11^2)^2$ to get $13^4 - 11^4 = (13^2 + 11^2)(13^2 - 11^2)$. Using difference of squares again and simplifying, we get $(169 + 121)(13+11)(13-11) = 290 \\cdot 24 \\cdot 2 = (2\\cdot 8 \\cdot 2) \\cdot (3 \\cdot 145)$. Realizing that we don't need the right-hand side because it doesn't contain any factor of 2, we see that the greatest power of $2$ that is a divisor $13^4 - 11^4$ is $\\boxed{\\textbf{(C)}\\ 32}$.\n",
      "\n",
      "Soulution 2:\n",
      "Just like in the above solution, we use the difference-of-squares factorization, but only once to get $13^4-11^4=(13^2-11^2)(13^2+11^2).$ We can then compute that this is equal to $48\\cdot290.$ Note that $290=2\\cdot145$ (we don't need to factorize any further as $145$ is already odd) thus the largest power of $2$ that divides $290$ is only $2^1=2,$ while $48=2^4\\cdot3,$ so the largest power of $2$ that divides $48$ is $2^4=16.$ Hence, the largest power of $2$ that is a divisor of $13^4-11^4$ is $2\\cdot16=\\boxed{\\textbf{(C)}~32}.$\n",
      "\n",
      "Soulution 3:\n",
      "Let $n=13^4-11^4.$ We wish to find the largest power of $2$ that divides $n$.\n",
      "Denote $v_p(k)$ as the largest exponent of $p$ in the prime factorization of $n$. In this problem, we have $p=2$. \n",
      "By the Lifting the Exponent Lemma on $n$, \n",
      "\\[v_2(13^4-11^4)=v_2(13-11)+v_2(4)+v_2(13+11)-1\\]\n",
      "\\[=v_2(2)+v_2(4)+v_2(24)-1\\]\n",
      "\\[=1+2+3-1=5.\\]\n",
      "Therefore, exponent of the largest power of $2$ that divids $13^4-11^4$ is $5,$ so the largest power of $2$ that divides this number is $2^5=\\boxed{\\textbf{(C)} 32}$.\n",
      "\n",
      "Soulution 4:\n",
      "We can simply take 13 to the 4th power, which is 28561. We subtract that by 11 to the 4th power, which is 14641 (You can use Pascal's Triangle to find this). Finally, subtract the numbers to get 13920. \n",
      "To test the options, since we need the largest one, we can go from top down. Testing, we see that both D and E are decimals,\n",
      "and 32 works. So, our answer is $\\boxed{\\textbf{(C)}~32}.$\n",
      "\n"
     ]
    }
   ],
   "source": [
    "sample_id = 1\n",
    "file_name = json_files[sample_id]\n",
    "\n",
    "file_path = os.path.join(competition, file_name)\n",
    "                        \n",
    "print(f\"Displaying sample {sample_id+1}: {file_path}\\n\")\n",
    "\n",
    "with open(file_path, 'r') as file:\n",
    "    data = json.load(file)\n",
    "\n",
    "problem = data[\"problem\"]\n",
    "solutions = list(data[\"solutions\"].values())\n",
    "n_solutions = len(solutions)\n",
    "\n",
    "print(f\"Problem:\")\n",
    "print(problem)\n",
    "print(f\"\\nNumber of solutions: {n_solutions}\")\n",
    "for i in range(n_solutions):\n",
    "    print(f\"Soulution {i+1}:\\n{solutions[i]}\\n\")"
   ]
  },
  {
   "cell_type": "markdown",
   "id": "b81bf216-3a95-4c12-9875-54db457c08e1",
   "metadata": {},
   "source": [
    "## Display latex into human readable style"
   ]
  },
  {
   "cell_type": "code",
   "execution_count": 6,
   "id": "dc30eaa5-4b66-4596-9fa4-6e1fd78a386b",
   "metadata": {},
   "outputs": [
    {
     "name": "stdout",
     "output_type": "stream",
     "text": [
      "Problem:\n"
     ]
    },
    {
     "data": {
      "text/latex": [
       "What is the largest power of $2$ that is a divisor of $13^4 - 11^4$?\n",
       "$\\textbf{(A)}\\mbox{ }8\\qquad \\textbf{(B)}\\mbox{ }16\\qquad \\textbf{(C)}\\mbox{ }32\\qquad \\textbf{(D)}\\mbox{ }64\\qquad \\textbf{(E)}\\mbox{ }128$"
      ],
      "text/plain": [
       "<IPython.core.display.Latex object>"
      ]
     },
     "metadata": {},
     "output_type": "display_data"
    },
    {
     "name": "stdout",
     "output_type": "stream",
     "text": [
      "\n",
      "Number of solutions: 4\n",
      "Soulution 1:\n"
     ]
    },
    {
     "data": {
      "text/latex": [
       "First, we use difference of squares on $13^4 - 11^4 = (13^2)^2 - (11^2)^2$ to get $13^4 - 11^4 = (13^2 + 11^2)(13^2 - 11^2)$. Using difference of squares again and simplifying, we get $(169 + 121)(13+11)(13-11) = 290 \\cdot 24 \\cdot 2 = (2\\cdot 8 \\cdot 2) \\cdot (3 \\cdot 145)$. Realizing that we don't need the right-hand side because it doesn't contain any factor of 2, we see that the greatest power of $2$ that is a divisor $13^4 - 11^4$ is $\\boxed{\\textbf{(C)}\\ 32}$."
      ],
      "text/plain": [
       "<IPython.core.display.Latex object>"
      ]
     },
     "metadata": {},
     "output_type": "display_data"
    },
    {
     "name": "stdout",
     "output_type": "stream",
     "text": [
      "\n",
      "Soulution 2:\n"
     ]
    },
    {
     "data": {
      "text/latex": [
       "Just like in the above solution, we use the difference-of-squares factorization, but only once to get $13^4-11^4=(13^2-11^2)(13^2+11^2).$ We can then compute that this is equal to $48\\cdot290.$ Note that $290=2\\cdot145$ (we don't need to factorize any further as $145$ is already odd) thus the largest power of $2$ that divides $290$ is only $2^1=2,$ while $48=2^4\\cdot3,$ so the largest power of $2$ that divides $48$ is $2^4=16.$ Hence, the largest power of $2$ that is a divisor of $13^4-11^4$ is $2\\cdot16=\\boxed{\\textbf{(C)}~32}.$"
      ],
      "text/plain": [
       "<IPython.core.display.Latex object>"
      ]
     },
     "metadata": {},
     "output_type": "display_data"
    },
    {
     "name": "stdout",
     "output_type": "stream",
     "text": [
      "\n",
      "Soulution 3:\n"
     ]
    },
    {
     "data": {
      "text/latex": [
       "Let $n=13^4-11^4.$ We wish to find the largest power of $2$ that divides $n$.\n",
       "Denote $v_p(k)$ as the largest exponent of $p$ in the prime factorization of $n$. In this problem, we have $p=2$. \n",
       "By the Lifting the Exponent Lemma on $n$, \n",
       "\\[v_2(13^4-11^4)=v_2(13-11)+v_2(4)+v_2(13+11)-1\\]\n",
       "\\[=v_2(2)+v_2(4)+v_2(24)-1\\]\n",
       "\\[=1+2+3-1=5.\\]\n",
       "Therefore, exponent of the largest power of $2$ that divids $13^4-11^4$ is $5,$ so the largest power of $2$ that divides this number is $2^5=\\boxed{\\textbf{(C)} 32}$."
      ],
      "text/plain": [
       "<IPython.core.display.Latex object>"
      ]
     },
     "metadata": {},
     "output_type": "display_data"
    },
    {
     "name": "stdout",
     "output_type": "stream",
     "text": [
      "\n",
      "Soulution 4:\n"
     ]
    },
    {
     "data": {
      "text/latex": [
       "We can simply take 13 to the 4th power, which is 28561. We subtract that by 11 to the 4th power, which is 14641 (You can use Pascal's Triangle to find this). Finally, subtract the numbers to get 13920. \n",
       "To test the options, since we need the largest one, we can go from top down. Testing, we see that both D and E are decimals,\n",
       "and 32 works. So, our answer is $\\boxed{\\textbf{(C)}~32}.$"
      ],
      "text/plain": [
       "<IPython.core.display.Latex object>"
      ]
     },
     "metadata": {},
     "output_type": "display_data"
    },
    {
     "name": "stdout",
     "output_type": "stream",
     "text": [
      "\n"
     ]
    }
   ],
   "source": [
    "print(f\"Problem:\")\n",
    "display(Latex(problem))\n",
    "print(f\"\\nNumber of solutions: {n_solutions}\")\n",
    "for i in range(n_solutions):\n",
    "    print(f\"Soulution {i+1}:\")\n",
    "    display(Latex(solutions[i]))\n",
    "    print()"
   ]
  },
  {
   "cell_type": "code",
   "execution_count": null,
   "id": "ccd77da2-847c-4141-a82d-a925ea0cd4c4",
   "metadata": {},
   "outputs": [],
   "source": []
  }
 ],
 "metadata": {
  "kernelspec": {
   "display_name": "Python 3 (ipykernel)",
   "language": "python",
   "name": "python3"
  },
  "language_info": {
   "codemirror_mode": {
    "name": "ipython",
    "version": 3
   },
   "file_extension": ".py",
   "mimetype": "text/x-python",
   "name": "python",
   "nbconvert_exporter": "python",
   "pygments_lexer": "ipython3",
   "version": "3.10.14"
  }
 },
 "nbformat": 4,
 "nbformat_minor": 5
}
